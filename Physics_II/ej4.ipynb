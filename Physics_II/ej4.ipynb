{
 "cells": [
  {
   "cell_type": "markdown",
   "metadata": {},
   "source": [
    "# Ejercicio 4\n",
    "\n",
    "Datos:\n",
    "- $m = 3.1g$\n",
    "- $Z = 29$\n",
    "- $A = 63.55g$\n",
    "- $N^A = 6.02 \\times 10^23$\n",
    "- $q^e= -1.6 \\times 10^-19C$\n",
    "\n",
    "Incógnita:\n",
    "- $q = ?$\n",
    "\n",
    "Procedimiento:\n",
    "- Hacemos una cadena de multiplicación de fracciones para obtener la carga total de los electrones:\n",
    "\n",
    "$$3.1 \\cancel {g} \\frac {6.02 \\times 10^{23} \\cancel {atomos} } {63.55 \\cancel {g}} \\frac {29 \\space \\cancel {electrones}}{1 \\space \\cancel {atomos}} \\frac {-1.6 \\times 10^{-19} C}{1 \\space \\cancel {electrones}} \n",
    " \n",
    " \n",
    "= -136257.561"
   ]
  },
  {
   "cell_type": "markdown",
   "metadata": {},
   "source": [
    "$$= -136257.561"
   ]
  }
 ],
 "metadata": {
  "kernelspec": {
   "display_name": "Python 3",
   "language": "python",
   "name": "python3"
  },
  "language_info": {
   "codemirror_mode": {
    "name": "ipython",
    "version": 3
   },
   "file_extension": ".py",
   "mimetype": "text/x-python",
   "name": "python",
   "nbconvert_exporter": "python",
   "pygments_lexer": "ipython3",
   "version": "3.10.13"
  }
 },
 "nbformat": 4,
 "nbformat_minor": 2
}
