{
 "cells": [
  {
   "cell_type": "markdown",
   "metadata": {},
   "source": [
    "# Ejercicio 3:\n",
    "\n",
    "Qué fuerza debemos ejercer en el émbolo pequeño de una prensa hidráulica si\n",
    "queremos levantar una masa de $20000Kg$ situada en el émbolo grande. El radio de ambos\n",
    "émbolos es de $0.2m$ y $4m$, respectivamente.\n",
    "\n",
    "Datos:\n",
    "- Mesa: $20000Kg$\n",
    "- Radio émbolos: $0.2 y 4m$\n",
    "\n",
    "Incognita:\n",
    "- Fuerza ?\n",
    "\n"
   ]
  }
 ],
 "metadata": {
  "language_info": {
   "name": "python"
  }
 },
 "nbformat": 4,
 "nbformat_minor": 2
}
