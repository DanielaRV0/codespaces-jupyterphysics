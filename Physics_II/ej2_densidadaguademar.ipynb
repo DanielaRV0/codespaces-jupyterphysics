{
 "cells": [
  {
   "cell_type": "markdown",
   "metadata": {},
   "source": [
    "# Ejercicio 2: \n",
    "\n",
    "Un objeto sumergido en agua de mar experimenta una presión de $5 atm$. Calcula a qué profundidad se encuentra. Densidad del agua de mar: $1030 \\frac {kg} {m^3}$\n",
    "\n",
    "Datos:\n",
    "- 5 atm\n",
    "- $\\rho agua de mar$: $1030 \\frac {kg} {m^3}$\n",
    "\n",
    "Incognita: \n",
    "- Profundidad: ?\n",
    "\n",
    "Procedimiento: \n",
    "- Tenemos la formula de la presión hidrostatica.\n",
    "\n",
    "$$P - P^0 = pgh$$\n",
    "\n",
    "- Primero convertimos la presión de la atmosfera a pascales (Pa)\n",
    "\n",
    "$$1 atm = 101325 Pa$$\n",
    "$$5 atm = 5*101325 = 506625 Pa$$\n",
    "\n",
    "- Obtenemos la profundidad:\n",
    "\n",
    "$$ h = \\frac {506,625Pa-101,325Pa} { 1,030\\\\frac{Kg}{m^3} * 9.81 \\frac{m}{s^2} } $$\n",
    "\n",
    "$$ h=\\frac {405,300Pa} { 10,104.3 \\frac{kg}{m^3} * \\frac {m}{s^2} } $$\n",
    "\n",
    "\n",
    "- Profundidad: \n",
    "\n",
    "$$h = 40.1116$$\n",
    "\n",
    "\n",
    "\n"
   ]
  }
 ],
 "metadata": {
  "language_info": {
   "name": "python"
  }
 },
 "nbformat": 4,
 "nbformat_minor": 2
}
