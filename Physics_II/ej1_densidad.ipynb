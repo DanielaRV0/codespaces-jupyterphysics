{
 "cells": [
  {
   "cell_type": "markdown",
   "metadata": {},
   "source": [
    "# Ejercicio 1: \n",
    "\n",
    "Calcula la masa del aire en una habitación a $25°C$, de $5m$ de ancho, $8m$ de largo y $2.5m$ de altura. Densidad del aire a $25°C$: $1.18 \\frac{kg}{m^3}$\n",
    "\n",
    "Datos: \n",
    "\n",
    "- Temperatura = 25°C\n",
    "\n",
    "- Ancho = 5m \n",
    "\n",
    "- Largo = 8m\n",
    "\n",
    "- Altura = 2.5m \n",
    "\n",
    "- $\\rho aire$ (25°C) = $1.18 kg/m^3$\n",
    "\n",
    "Incógnita: \n",
    "\n",
    "- Masa = ?\n",
    "\n",
    "\n",
    "Procedimiento: \n",
    "\n",
    "- Tenemos la formula de la densidad: \n",
    "$$\\rho = \\frac{m}{V}$$\n",
    "\n",
    "- Necesitamos el volumen: \n",
    "$$ V = ancho * largo * altura$$\n",
    "$$ V = 5m * 8m * 2.5m$$\n",
    "$$ V = 100m^3$$\n",
    "\n",
    "- Despejamos la masa en la ecuación de densidad: \n",
    "$$ m = \\rho * V$$\n",
    "\n",
    "- Obtenemos la masa del aire: \n",
    "\n",
    "$$ m = 1.18 \\frac{kg}{n^3} * 100m^3$$\n",
    "\n",
    "$$m = 118kg$$"
   ]
  }
 ],
 "metadata": {
  "language_info": {
   "name": "python"
  }
 },
 "nbformat": 4,
 "nbformat_minor": 2
}
